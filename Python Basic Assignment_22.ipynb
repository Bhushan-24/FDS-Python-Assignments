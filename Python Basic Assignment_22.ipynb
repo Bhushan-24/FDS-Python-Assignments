{
 "cells": [
  {
   "cell_type": "markdown",
   "id": "7ce556c7",
   "metadata": {},
   "source": [
    "#### Q1) What is the result of the code, and explain?"
   ]
  },
  {
   "cell_type": "markdown",
   "id": "742afa78",
   "metadata": {},
   "source": [
    "X='iNeuron'\n",
    "def fun():\n",
    "    print(X)\n",
    "    \n",
    "fun()"
   ]
  },
  {
   "cell_type": "markdown",
   "id": "838ccbbd",
   "metadata": {},
   "source": [
    "Ans) The Result of this code is iNeuron, it's because the function intially looks for the variable X in its local scope,But since there is no local variable X, its returns the value of global variable x ie iNeuron"
   ]
  },
  {
   "cell_type": "code",
   "execution_count": 9,
   "id": "59f3161a",
   "metadata": {},
   "outputs": [
    {
     "name": "stdout",
     "output_type": "stream",
     "text": [
      "iNeuron\n"
     ]
    }
   ],
   "source": [
    "X='iNeuron'\n",
    "def fun():\n",
    "    print(X)\n",
    "    \n",
    "fun()"
   ]
  },
  {
   "cell_type": "markdown",
   "id": "f057e99d",
   "metadata": {},
   "source": [
    "#### Q2) What is the result of the code, and explain?"
   ]
  },
  {
   "cell_type": "markdown",
   "id": "d4ccac81",
   "metadata": {},
   "source": [
    "X='iNeuron'\n",
    "def fun():\n",
    "    X='NI!'\n",
    "    \n",
    "fun()\n",
    "print(X)"
   ]
  },
  {
   "cell_type": "code",
   "execution_count": 7,
   "id": "f7d581a9",
   "metadata": {},
   "outputs": [
    {
     "name": "stdout",
     "output_type": "stream",
     "text": [
      "NI!\n"
     ]
    }
   ],
   "source": [
    "X='iNeuron'\n",
    "def fun():\n",
    "    X='NI!'\n",
    "    print(X)\n",
    "    \n",
    "fun()"
   ]
  },
  {
   "cell_type": "markdown",
   "id": "b50b157f",
   "metadata": {},
   "source": [
    "Ans: The Result of this cide is NI!, because the function initially looks for the variable X in its local scope if X is not available then it checks for variable X in the global scope, Since here the X is present in the local scope. it prints the value NI!"
   ]
  },
  {
   "cell_type": "markdown",
   "id": "2b6a6b2e",
   "metadata": {},
   "source": [
    "#### Q3) What does this code print, and why?"
   ]
  },
  {
   "cell_type": "markdown",
   "id": "54608e16",
   "metadata": {},
   "source": [
    "X='iNeuron'\n",
    "def fun():\n",
    "    X='NI!'\n",
    "    print(X)\n",
    "    \n",
    "func()\n",
    "print(X)"
   ]
  },
  {
   "cell_type": "markdown",
   "id": "384f4cd5",
   "metadata": {},
   "source": [
    "Ans: The output of the code is NI and iNeuron. X=NI is in the local scope of the function func() hence the function prints the x value as NI. X = 'iNeuron' is in the global scope. hence print(X) prints output as iNeuron"
   ]
  },
  {
   "cell_type": "code",
   "execution_count": 10,
   "id": "cd7a001d",
   "metadata": {},
   "outputs": [
    {
     "name": "stdout",
     "output_type": "stream",
     "text": [
      "Ni\n",
      "iNeuron\n"
     ]
    }
   ],
   "source": [
    "X='iNeuron'\n",
    "def fun():\n",
    "    X='Ni'\n",
    "    print(X)\n",
    "    \n",
    "fun()\n",
    "print(X)"
   ]
  },
  {
   "cell_type": "markdown",
   "id": "d14dfd0d",
   "metadata": {},
   "source": [
    "#### Q4)   What output does this code produce? Why?"
   ]
  },
  {
   "cell_type": "markdown",
   "id": "b1e4112f",
   "metadata": {},
   "source": [
    "X = 'iNeuron'\n",
    "    def func():\n",
    "        global X\n",
    "        X = 'NI'\n",
    " func()\n",
    " print(X)\n",
    "Ans: The output of the code is NI. the global keyword allows a variable to be accessible in the current scope. since we are using global keyword inside the function func it directly access the variable in X in global scope. and changes its value to NI. hence the output of the code is NI"
   ]
  },
  {
   "cell_type": "code",
   "execution_count": 11,
   "id": "ce5a55ed",
   "metadata": {},
   "outputs": [
    {
     "name": "stdout",
     "output_type": "stream",
     "text": [
      "NI!\n"
     ]
    }
   ],
   "source": [
    "X='iNeuron'\n",
    "def func():\n",
    "    global X\n",
    "    X='NI!'\n",
    "    \n",
    "func()\n",
    "print(X)"
   ]
  },
  {
   "cell_type": "markdown",
   "id": "4639c439",
   "metadata": {},
   "source": [
    "#### Q5) What about this code—what’s the output, and why?"
   ]
  },
  {
   "cell_type": "markdown",
   "id": "94465914",
   "metadata": {},
   "source": [
    "X = 'iNeuron'\n",
    "     def func():\n",
    "         X = 'NI'\n",
    "     def nested():\n",
    "        print(X)\n",
    "        nested()\n",
    "\n",
    "func()\n",
    "X\n",
    "Ans: The output of the code is NI. the reason for this output is if a function wants to access a variable, if its not available in its localscope. it looks for the variable in its global scope. similarly here also function nested looks for variable X in its global scope. hence the output of the code is NI"
   ]
  },
  {
   "cell_type": "code",
   "execution_count": 19,
   "id": "f6cee7bb",
   "metadata": {},
   "outputs": [
    {
     "name": "stdout",
     "output_type": "stream",
     "text": [
      "iNeuron\n"
     ]
    },
    {
     "data": {
      "text/plain": [
       "'iNeuron'"
      ]
     },
     "execution_count": 19,
     "metadata": {},
     "output_type": "execute_result"
    }
   ],
   "source": [
    "X='iNeuron'\n",
    "def func():\n",
    "    X='NI'\n",
    "def nested():\n",
    "    print(X)\n",
    "nested()\n",
    "func()\n",
    "X"
   ]
  },
  {
   "cell_type": "markdown",
   "id": "8bbb2599",
   "metadata": {},
   "source": [
    "#### Q6)  How about this code: what is its output in Python 3, and explain?"
   ]
  },
  {
   "cell_type": "markdown",
   "id": "06956cdd",
   "metadata": {},
   "source": [
    "def func():\n",
    "    X = 'NI'\n",
    "def nested():\n",
    "    nonlocal X\n",
    "     X = 'Spam'\n",
    "nested()\n",
    "print(X)\n",
    "func()\n",
    "Ans: The output of the code is Spam. nonlocal keyword in python is used to declare a variable as not local.Hence the statement X = \"Spam\" is modified in the global scope. hence the output of print(X) statement is Spam"
   ]
  },
  {
   "cell_type": "code",
   "execution_count": 21,
   "id": "064a7e69",
   "metadata": {},
   "outputs": [
    {
     "name": "stdout",
     "output_type": "stream",
     "text": [
      "Spam\n"
     ]
    }
   ],
   "source": [
    "def func():\n",
    "    X = 'NI'\n",
    "    def nested():\n",
    "        nonlocal X\n",
    "        X = 'Spam'\n",
    "    nested()\n",
    "    print(X)\n",
    "func()"
   ]
  },
  {
   "cell_type": "code",
   "execution_count": null,
   "id": "644e43e6",
   "metadata": {},
   "outputs": [],
   "source": []
  }
 ],
 "metadata": {
  "kernelspec": {
   "display_name": "Python 3 (ipykernel)",
   "language": "python",
   "name": "python3"
  },
  "language_info": {
   "codemirror_mode": {
    "name": "ipython",
    "version": 3
   },
   "file_extension": ".py",
   "mimetype": "text/x-python",
   "name": "python",
   "nbconvert_exporter": "python",
   "pygments_lexer": "ipython3",
   "version": "3.9.7"
  }
 },
 "nbformat": 4,
 "nbformat_minor": 5
}
