{
 "cells": [
  {
   "cell_type": "markdown",
   "id": "24f364dd",
   "metadata": {},
   "source": [
    "##### Q1) Set the variable test1 to the string 'This is a test of the emergency text system,' and save test1 to a file named test.txt."
   ]
  },
  {
   "cell_type": "code",
   "execution_count": 1,
   "id": "76784eb6",
   "metadata": {},
   "outputs": [
    {
     "name": "stdout",
     "output_type": "stream",
     "text": [
      "This is a test of the emergency test system\n"
     ]
    }
   ],
   "source": [
    "test1='This is a test of the emergency test system'\n",
    "print(test1)\n",
    "with open ('test.text','w') as file:\n",
    "    file.write(test1)\n",
    "    file.close()"
   ]
  },
  {
   "cell_type": "code",
   "execution_count": 2,
   "id": "8b4d3a58",
   "metadata": {},
   "outputs": [
    {
     "name": "stdout",
     "output_type": "stream",
     "text": [
      "This is a test of the emergency test system\n"
     ]
    }
   ],
   "source": [
    "!type test.text"
   ]
  },
  {
   "cell_type": "markdown",
   "id": "4ca1518a",
   "metadata": {},
   "source": [
    "#### Q2) Read the contents of the file test.txt into the variable test2. Is there a difference between test 1 and test 2?"
   ]
  },
  {
   "cell_type": "code",
   "execution_count": 3,
   "id": "f64c342c",
   "metadata": {},
   "outputs": [
    {
     "name": "stdout",
     "output_type": "stream",
     "text": [
      "test1='This is a test of the emergency test system',\n",
      "print(test1)\n",
      "\n",
      "\n",
      "False\n"
     ]
    }
   ],
   "source": [
    "with open('test.txt','r') as file:\n",
    "    test2=file.read()\n",
    "print(test2)\n",
    "print(test1==test2)"
   ]
  },
  {
   "cell_type": "code",
   "execution_count": 4,
   "id": "40d0e3de",
   "metadata": {},
   "outputs": [
    {
     "name": "stdout",
     "output_type": "stream",
     "text": [
      "test1='This is a test of the emergency test system',\n",
      "print(test1)\n",
      "\n",
      "\n",
      "True\n"
     ]
    }
   ],
   "source": [
    "with open('test.txt','r') as file:\n",
    "     test1=file.read()\n",
    "     print(test1)\n",
    "     print(test1==test2)"
   ]
  },
  {
   "cell_type": "markdown",
   "id": "30933813",
   "metadata": {},
   "source": [
    "##### Q3) Create a CSV file called book.csv by using these lines:\n",
    "title,author,year\n",
    "The Weirdstone of Brisingamen,Alan Garner,1960\n",
    "Perdido Street Station,China Miéville,2000\n",
    "Thud!,Terry Pratchett,2005\n",
    "The Spellman Files,Lisa Lutz,2007\n",
    "Small Gods,Terry Pratchett,1992"
   ]
  },
  {
   "cell_type": "code",
   "execution_count": 7,
   "id": "f0b28a1c",
   "metadata": {},
   "outputs": [],
   "source": [
    "data = '''title,author,year\n",
    "The Weirdstone of Brisingamen,Alan Garner,1960\n",
    "Perdido Street Station,China Miéville,2000\n",
    "Thud!,Terry Pratchett,2005\n",
    "The Spellman Files,Lisa Lutz,2007\n",
    "Small Gods,Terry Pratchett,1992'''\n",
    "with open('book1.csv','w') as file:\n",
    "    file.write(data)"
   ]
  },
  {
   "cell_type": "markdown",
   "id": "767f8665",
   "metadata": {},
   "source": [
    "#### Q4)  Use the sqlite3 module to create a SQLite database called book.db, and a table called book with these fields: title (text), author (text), and year (integer)."
   ]
  },
  {
   "cell_type": "code",
   "execution_count": 8,
   "id": "adbb0009",
   "metadata": {},
   "outputs": [],
   "source": [
    "import sqlite3\n",
    "db=sqlite3.connect('book1.db')\n",
    "cursor=db.cursor()\n",
    "cursor.execute(\"CREATE TABLE book1(title text, author text, year int)\")\n",
    "db.commit()\n",
    "db.close()"
   ]
  },
  {
   "cell_type": "markdown",
   "id": "df21af95",
   "metadata": {},
   "source": [
    "#### Q5) 5. Read books4.csv and insert its data into the book table."
   ]
  },
  {
   "cell_type": "code",
   "execution_count": 10,
   "id": "d3a73d83",
   "metadata": {},
   "outputs": [],
   "source": [
    "import sqlite3\n",
    "import csv\n",
    "conn = sqlite3.connect(\"book1.db\")\n",
    "cursor = conn.cursor()\n",
    "with open(\"book1.csv\",\"r\") as file:\n",
    "    book1 = csv.DictReader(file)\n",
    "    for book in book1:\n",
    "        cursor.execute(\"INSERT INTO book1 VALUES (?,?,?)\",(book['title'],book['author'],book['year']))\n",
    "conn.commit()\n",
    "conn.close()"
   ]
  },
  {
   "cell_type": "markdown",
   "id": "376050f3",
   "metadata": {},
   "source": [
    "#### Q6) Select and print the title column from the book table in alphabetical order."
   ]
  },
  {
   "cell_type": "code",
   "execution_count": 11,
   "id": "e2629dc0",
   "metadata": {},
   "outputs": [
    {
     "name": "stdout",
     "output_type": "stream",
     "text": [
      "Perdido Street Station\n",
      "Small Gods\n",
      "The Spellman Files\n",
      "The Weirdstone of Brisingamen\n",
      "Thud!\n"
     ]
    }
   ],
   "source": [
    "import sqlite3\n",
    "conn = sqlite3.connect('book1.db')\n",
    "cursor = conn.cursor()\n",
    "output = cursor.execute(\"SELECT title FROM book1 ORDER BY title ASC\")\n",
    "for ele in output:\n",
    "    print(ele[0])\n",
    "conn.commit()\n",
    "conn.close()"
   ]
  },
  {
   "cell_type": "markdown",
   "id": "430e64c2",
   "metadata": {},
   "source": [
    "#### Q7) From the book table, select and print all columns in the order of publication."
   ]
  },
  {
   "cell_type": "code",
   "execution_count": 12,
   "id": "b271882e",
   "metadata": {},
   "outputs": [
    {
     "name": "stdout",
     "output_type": "stream",
     "text": [
      "('The Weirdstone of Brisingamen', 'Alan Garner', 1960)\n",
      "('Small Gods', 'Terry Pratchett', 1992)\n",
      "('Perdido Street Station', 'China Miéville', 2000)\n",
      "('Thud!', 'Terry Pratchett', 2005)\n",
      "('The Spellman Files', 'Lisa Lutz', 2007)\n"
     ]
    }
   ],
   "source": [
    "import sqlite3\n",
    "conn = sqlite3.connect('book1.db')\n",
    "cursor = conn.cursor()\n",
    "ouput = cursor.execute(\"SELECT * FROM book1 ORDER BY year\")\n",
    "for record in ouput:\n",
    "    print(record)"
   ]
  },
  {
   "cell_type": "markdown",
   "id": "b968db2b",
   "metadata": {},
   "source": [
    "#### Q8) Use the sqlalchemy module to connect to the sqlite3 database book.db that you just made in exercise 6."
   ]
  },
  {
   "cell_type": "code",
   "execution_count": 13,
   "id": "9d2e904d",
   "metadata": {},
   "outputs": [
    {
     "data": {
      "text/plain": [
       "Engine(sqlite:///book.db)"
      ]
     },
     "execution_count": 13,
     "metadata": {},
     "output_type": "execute_result"
    }
   ],
   "source": [
    "import sqlalchemy\n",
    "conn = sqlalchemy.create_engine('sqlite:///book.db')\n",
    "conn"
   ]
  },
  {
   "cell_type": "markdown",
   "id": "d2226eac",
   "metadata": {},
   "source": [
    "#### Q9)  Install the Redis server and the Python redis library (pip install redis) on your computer. Create a Redis hash called test with the fields count (1) and name ('Fester Bestertester'). Print all the fields for test."
   ]
  },
  {
   "cell_type": "code",
   "execution_count": 14,
   "id": "8f716353",
   "metadata": {},
   "outputs": [
    {
     "name": "stdout",
     "output_type": "stream",
     "text": [
      "Requirement already satisfied: redis in e:\\backup 22-03-2021\\desktop\\lib\\site-packages (4.3.3)\n",
      "Requirement already satisfied: deprecated>=1.2.3 in e:\\backup 22-03-2021\\desktop\\lib\\site-packages (from redis) (1.2.13)\n",
      "Requirement already satisfied: packaging>=20.4 in e:\\backup 22-03-2021\\desktop\\lib\\site-packages (from redis) (21.0)\n",
      "Requirement already satisfied: async-timeout>=4.0.2 in e:\\backup 22-03-2021\\desktop\\lib\\site-packages (from redis) (4.0.2)\n",
      "Requirement already satisfied: wrapt<2,>=1.10 in e:\\backup 22-03-2021\\desktop\\lib\\site-packages (from deprecated>=1.2.3->redis) (1.12.1)\n",
      "Requirement already satisfied: pyparsing>=2.0.2 in e:\\backup 22-03-2021\\desktop\\lib\\site-packages (from packaging>=20.4->redis) (3.0.4)\n"
     ]
    }
   ],
   "source": [
    "! python -m pip install redis"
   ]
  },
  {
   "cell_type": "code",
   "execution_count": null,
   "id": "678d0365",
   "metadata": {},
   "outputs": [],
   "source": [
    "import redis\n",
    "conn = redis.Redis()\n",
    "conn.hset('test',{\n",
    "    'count':1,\n",
    "    'name':'Fester Bestertester'\n",
    "})\n",
    "conn.hgetall('test')"
   ]
  },
  {
   "cell_type": "markdown",
   "id": "fb80901d",
   "metadata": {},
   "source": [
    "#### Q10) Increment the count field of test and print it."
   ]
  },
  {
   "cell_type": "code",
   "execution_count": null,
   "id": "ccde4181",
   "metadata": {},
   "outputs": [],
   "source": [
    "conn.hincrby('test', 'count', 1)\n",
    "conn.hget('test', 'count')"
   ]
  }
 ],
 "metadata": {
  "kernelspec": {
   "display_name": "Python 3 (ipykernel)",
   "language": "python",
   "name": "python3"
  },
  "language_info": {
   "codemirror_mode": {
    "name": "ipython",
    "version": 3
   },
   "file_extension": ".py",
   "mimetype": "text/x-python",
   "name": "python",
   "nbconvert_exporter": "python",
   "pygments_lexer": "ipython3",
   "version": "3.9.7"
  }
 },
 "nbformat": 4,
 "nbformat_minor": 5
}
