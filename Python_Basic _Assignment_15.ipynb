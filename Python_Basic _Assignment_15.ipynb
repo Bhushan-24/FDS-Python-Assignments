{
 "cells": [
  {
   "cell_type": "markdown",
   "id": "0c205f4d",
   "metadata": {},
   "source": [
    "#### Q1) How many seconds are in an hour? use the interactive interpreter as a calculator and multiply the number of seconds in a minnute(60) by the number of minutes in a hour (also 60)"
   ]
  },
  {
   "cell_type": "code",
   "execution_count": 1,
   "id": "cb23856f",
   "metadata": {},
   "outputs": [
    {
     "name": "stdout",
     "output_type": "stream",
     "text": [
      "3600\n"
     ]
    }
   ],
   "source": [
    "print(60*60)"
   ]
  },
  {
   "cell_type": "markdown",
   "id": "737ff9af",
   "metadata": {},
   "source": [
    "#### Q2) Assign the result from the previous task (seconds in an hour) to a variable called seconds_per_hour"
   ]
  },
  {
   "cell_type": "code",
   "execution_count": 2,
   "id": "240a885f",
   "metadata": {},
   "outputs": [
    {
     "name": "stdout",
     "output_type": "stream",
     "text": [
      "3600\n"
     ]
    }
   ],
   "source": [
    "seconds_per_hour=60*60\n",
    "print(seconds_per_hour)"
   ]
  },
  {
   "cell_type": "markdown",
   "id": "05ee14b4",
   "metadata": {},
   "source": [
    "#### Q3) How many seconds do you think there are in a day? Make use of the variables seconds per hour and minutes per hour"
   ]
  },
  {
   "cell_type": "code",
   "execution_count": 4,
   "id": "f394d7c2",
   "metadata": {},
   "outputs": [
    {
     "name": "stdout",
     "output_type": "stream",
     "text": [
      "86400\n"
     ]
    }
   ],
   "source": [
    "minutes_per_hour=60\n",
    "print(seconds_per_hour*24)"
   ]
  },
  {
   "cell_type": "markdown",
   "id": "83d958d8",
   "metadata": {},
   "source": [
    "#### Q4) Calculate seconds per day again but this time save the result in a variable called seconds_per_day"
   ]
  },
  {
   "cell_type": "code",
   "execution_count": 5,
   "id": "cd97eab1",
   "metadata": {},
   "outputs": [
    {
     "name": "stdout",
     "output_type": "stream",
     "text": [
      "86400\n"
     ]
    }
   ],
   "source": [
    "seconds_per_day=24*60*60\n",
    "print(seconds_per_day)"
   ]
  },
  {
   "cell_type": "markdown",
   "id": "94368cfe",
   "metadata": {},
   "source": [
    "#### Q5) Divide seconds_per_day by seconds_per_hour. Use floating-point (/) division"
   ]
  },
  {
   "cell_type": "code",
   "execution_count": 6,
   "id": "64f2d574",
   "metadata": {},
   "outputs": [
    {
     "name": "stdout",
     "output_type": "stream",
     "text": [
      "24.0\n"
     ]
    }
   ],
   "source": [
    "print(seconds_per_day/seconds_per_hour)"
   ]
  },
  {
   "cell_type": "markdown",
   "id": "8efb5cec",
   "metadata": {},
   "source": [
    "#### Q6) Divide seconds_per_day by seconds_per_hour, using integer (//) division, Did this number agree with the floating point value from the pervious question, aside from the final .0?"
   ]
  },
  {
   "cell_type": "code",
   "execution_count": 8,
   "id": "a3d1d308",
   "metadata": {},
   "outputs": [
    {
     "name": "stdout",
     "output_type": "stream",
     "text": [
      "24 -> yes this values agree with the floating point value from the previous question\n"
     ]
    }
   ],
   "source": [
    "print(seconds_per_day//seconds_per_hour, end='')\n",
    "print(' -> yes this values agree with the floating point value from the previous question')"
   ]
  },
  {
   "cell_type": "markdown",
   "id": "67d29ed1",
   "metadata": {},
   "source": [
    "#### Q7) Write a generator genPrimes, that returs the sequence of prime number on successive calls to its next() method 2,3,5,7,11,..."
   ]
  },
  {
   "cell_type": "code",
   "execution_count": 10,
   "id": "ed2bb753",
   "metadata": {},
   "outputs": [
    {
     "name": "stdout",
     "output_type": "stream",
     "text": [
      "2\n",
      "3\n",
      "5\n",
      "7\n",
      "11\n"
     ]
    }
   ],
   "source": [
    "def genPrimes():\n",
    "    num=0\n",
    "    while True:\n",
    "        if num==2 or num==3:\n",
    "            yield num\n",
    "        elif ((num-1)%6==0 or (num+1)%6==0) and num!=1:\n",
    "            yield num\n",
    "        num=num+1\n",
    "        \n",
    "output=genPrimes()\n",
    "for i in range(5):\n",
    "    print(next(output))"
   ]
  }
 ],
 "metadata": {
  "kernelspec": {
   "display_name": "Python 3 (ipykernel)",
   "language": "python",
   "name": "python3"
  },
  "language_info": {
   "codemirror_mode": {
    "name": "ipython",
    "version": 3
   },
   "file_extension": ".py",
   "mimetype": "text/x-python",
   "name": "python",
   "nbconvert_exporter": "python",
   "pygments_lexer": "ipython3",
   "version": "3.9.7"
  }
 },
 "nbformat": 4,
 "nbformat_minor": 5
}
