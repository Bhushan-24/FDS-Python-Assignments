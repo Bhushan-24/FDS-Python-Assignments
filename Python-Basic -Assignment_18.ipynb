{
 "cells": [
  {
   "cell_type": "markdown",
   "id": "dc2a5f86",
   "metadata": {},
   "source": [
    "####  Q1) Create a zoo3.py file first. Define the hours()  function, which prints the string 'Open 9-5 daily', Then, use the interactive interpreter to import the zoo3 module and call its hours() function"
   ]
  },
  {
   "cell_type": "code",
   "execution_count": 1,
   "id": "d1165ab2",
   "metadata": {},
   "outputs": [
    {
     "name": "stdout",
     "output_type": "stream",
     "text": [
      "def hours():\n",
      "    print(\"open daily 9-5\")\n",
      "\n",
      "hours()\n"
     ]
    }
   ],
   "source": [
    "!type zoo3.py"
   ]
  },
  {
   "cell_type": "code",
   "execution_count": 2,
   "id": "c6054723",
   "metadata": {},
   "outputs": [
    {
     "name": "stdout",
     "output_type": "stream",
     "text": [
      "open daily 9-5\n",
      "open daily 9-5\n"
     ]
    }
   ],
   "source": [
    "import zoo3\n",
    "zoo3.hours()"
   ]
  },
  {
   "cell_type": "markdown",
   "id": "3bcdbe83",
   "metadata": {},
   "source": [
    "#### Q2) In the interactive interpreter, import zoo3 module as menagerie and call its hours() function"
   ]
  },
  {
   "cell_type": "code",
   "execution_count": 3,
   "id": "36746d47",
   "metadata": {},
   "outputs": [
    {
     "name": "stdout",
     "output_type": "stream",
     "text": [
      "open daily 9-5\n"
     ]
    }
   ],
   "source": [
    "import zoo3 as menagerie\n",
    "zoo3.hours()"
   ]
  },
  {
   "cell_type": "markdown",
   "id": "8ecb56f2",
   "metadata": {},
   "source": [
    "#### Q3) Using the interpreter, explicitly import and call the hours() function from zoo3"
   ]
  },
  {
   "cell_type": "code",
   "execution_count": 4,
   "id": "178da2cc",
   "metadata": {},
   "outputs": [
    {
     "name": "stdout",
     "output_type": "stream",
     "text": [
      "open daily 9-5\n"
     ]
    }
   ],
   "source": [
    "from zoo3 import hours\n",
    "hours()"
   ]
  },
  {
   "cell_type": "markdown",
   "id": "3307d2be",
   "metadata": {},
   "source": [
    "#### Q4) import the hours() function as info and call it"
   ]
  },
  {
   "cell_type": "code",
   "execution_count": 5,
   "id": "b25efd88",
   "metadata": {},
   "outputs": [
    {
     "name": "stdout",
     "output_type": "stream",
     "text": [
      "open daily 9-5\n"
     ]
    }
   ],
   "source": [
    "from zoo3 import hours as info\n",
    "info()"
   ]
  },
  {
   "cell_type": "markdown",
   "id": "9105ba1e",
   "metadata": {},
   "source": [
    "#### Q5) Create a plain dictionary with the key value pairs  'a':1, 'b':2, and 'c': 3, and print it out"
   ]
  },
  {
   "cell_type": "code",
   "execution_count": 6,
   "id": "94ed9fd1",
   "metadata": {},
   "outputs": [
    {
     "name": "stdout",
     "output_type": "stream",
     "text": [
      "{'a': 1, 'b': 2, 'c': 3}\n"
     ]
    }
   ],
   "source": [
    "plain_dictionary={'a':1,'b':2,'c':3}\n",
    "print(plain_dictionary)"
   ]
  },
  {
   "cell_type": "markdown",
   "id": "66c2283a",
   "metadata": {},
   "source": [
    " #### Q6) Make an orderedDict called fancy from the same pairs listed in 5 and print it, Did it print in the  same order as plain?"
   ]
  },
  {
   "cell_type": "code",
   "execution_count": null,
   "id": "e9cc7df8",
   "metadata": {},
   "outputs": [],
   "source": [
    "from collections import OrderedDict\n",
    "fancy = OrderedDict(plain_dict)\n",
    "print(f'plain_dict -> {plain_dict}')\n",
    "print(f'fancy -> {fancy}')"
   ]
  },
  {
   "cell_type": "markdown",
   "id": "c8579841",
   "metadata": {},
   "source": [
    "plain_dict -> {'a': 1, 'b': 2, 'c': 3}\n",
    "fancy -> OrderedDict([('a', 1), ('b', 2), ('c', 3)])"
   ]
  },
  {
   "cell_type": "markdown",
   "id": "d57131bf",
   "metadata": {},
   "source": [
    "#### Q7)  Make a default dictionary called dict_of_lists and pass it the argument list. Make the list dict_of_lists['a'] and append the value 'something for a' to it in one assignment. Print dict_of_lists['a']."
   ]
  },
  {
   "cell_type": "code",
   "execution_count": 14,
   "id": "6c1b8dbf",
   "metadata": {},
   "outputs": [
    {
     "name": "stdout",
     "output_type": "stream",
     "text": [
      "['something for a']\n"
     ]
    }
   ],
   "source": [
    "from collections import defaultdict\n",
    "dict_of_lists = defaultdict(list)\n",
    "dict_of_lists['a'].append('something for a')\n",
    "print(dict_of_lists['a'])"
   ]
  },
  {
   "cell_type": "code",
   "execution_count": null,
   "id": "17dfcd2d",
   "metadata": {},
   "outputs": [],
   "source": []
  }
 ],
 "metadata": {
  "kernelspec": {
   "display_name": "Python 3 (ipykernel)",
   "language": "python",
   "name": "python3"
  },
  "language_info": {
   "codemirror_mode": {
    "name": "ipython",
    "version": 3
   },
   "file_extension": ".py",
   "mimetype": "text/x-python",
   "name": "python",
   "nbconvert_exporter": "python",
   "pygments_lexer": "ipython3",
   "version": "3.9.7"
  }
 },
 "nbformat": 4,
 "nbformat_minor": 5
}
