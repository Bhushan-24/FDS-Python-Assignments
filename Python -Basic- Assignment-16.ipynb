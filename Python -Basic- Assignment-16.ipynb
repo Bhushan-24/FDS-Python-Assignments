{
 "cells": [
  {
   "cell_type": "markdown",
   "id": "c0edc74f",
   "metadata": {},
   "source": [
    "#### Q1) Create a list called years_list, starting with the year of your birth, and each year there after until the year of your fifth birthday. for example, if you were born in 1980. the list would be years_list=[1980,1981,1982,1983,1984,1985]"
   ]
  },
  {
   "cell_type": "code",
   "execution_count": 3,
   "id": "9f80771c",
   "metadata": {},
   "outputs": [
    {
     "name": "stdout",
     "output_type": "stream",
     "text": [
      "[1997, 1998, 1999, 2000, 2001, 2002]\n"
     ]
    }
   ],
   "source": [
    "years_list=[i for i in range(1997,1997+6)]\n",
    "print(years_list)"
   ]
  },
  {
   "cell_type": "markdown",
   "id": "1b9b7d6d",
   "metadata": {},
   "source": [
    "#### Q2) In which year in years_list was your third birthday? Remember, you were 0 years of age for your first year"
   ]
  },
  {
   "cell_type": "code",
   "execution_count": 5,
   "id": "d321d502",
   "metadata": {},
   "outputs": [
    {
     "name": "stdout",
     "output_type": "stream",
     "text": [
      "2000\n"
     ]
    }
   ],
   "source": [
    "print(years_list[3])"
   ]
  },
  {
   "cell_type": "markdown",
   "id": "97857267",
   "metadata": {},
   "source": [
    "#### Q3) In the years list, which year were you the oldest?"
   ]
  },
  {
   "cell_type": "code",
   "execution_count": 6,
   "id": "53a1f8c7",
   "metadata": {},
   "outputs": [
    {
     "name": "stdout",
     "output_type": "stream",
     "text": [
      "2002\n"
     ]
    }
   ],
   "source": [
    "print(years_list[-1])"
   ]
  },
  {
   "cell_type": "markdown",
   "id": "65a79854",
   "metadata": {},
   "source": [
    "#### Q4) Make a list called things with these three strings as elelemts \"mozzarella\", \"cinderella\", \"saimonella\","
   ]
  },
  {
   "cell_type": "code",
   "execution_count": 7,
   "id": "2b33ce35",
   "metadata": {},
   "outputs": [
    {
     "name": "stdout",
     "output_type": "stream",
     "text": [
      "['mozzarellaella', 'cinderellaella', 'saimonellaella']\n"
     ]
    }
   ],
   "source": [
    "things=[ele+'ella' for ele in [\"mozzarella\",\"cinderella\",\"saimonella\"]]\n",
    "print(things)"
   ]
  },
  {
   "cell_type": "markdown",
   "id": "feea391f",
   "metadata": {},
   "source": [
    "#### Q5) Capitalize the element in things that refers to a person and then print the list. Did it change the element in the list?"
   ]
  },
  {
   "cell_type": "code",
   "execution_count": 9,
   "id": "564e374b",
   "metadata": {},
   "outputs": [
    {
     "name": "stdout",
     "output_type": "stream",
     "text": [
      "['mozzarellaella', 'cinderellaella', 'saimonellaella']\n"
     ]
    }
   ],
   "source": [
    "for element in range(len(things)):\n",
    "    if things[element]=='cinderella':\n",
    "        things[element]=things.element.capitalize()\n",
    "print(things)"
   ]
  },
  {
   "cell_type": "markdown",
   "id": "ffb32be5",
   "metadata": {},
   "source": [
    "#### Q6) Make a surprise list with the elements \"Groucho\", \"Chico\", and \"Harpo.\""
   ]
  },
  {
   "cell_type": "code",
   "execution_count": 11,
   "id": "9b3fcd62",
   "metadata": {},
   "outputs": [
    {
     "name": "stdout",
     "output_type": "stream",
     "text": [
      "['Groucho', 'Chico', 'Harpo']\n"
     ]
    }
   ],
   "source": [
    "surprise_list=[\"Groucho\",\"Chico\",\"Harpo\"]\n",
    "print(surprise_list)"
   ]
  },
  {
   "cell_type": "markdown",
   "id": "b6d5269b",
   "metadata": {},
   "source": [
    "#### Q7) Lowercase the last element of the surprise list, reverse it, and then capitalize it"
   ]
  },
  {
   "cell_type": "code",
   "execution_count": 12,
   "id": "84069f28",
   "metadata": {},
   "outputs": [
    {
     "name": "stdout",
     "output_type": "stream",
     "text": [
      "Oprah\n"
     ]
    }
   ],
   "source": [
    "print(surprise_list[-1].lower()[::-1].capitalize())"
   ]
  },
  {
   "cell_type": "markdown",
   "id": "317510db",
   "metadata": {},
   "source": [
    "#### Q8) Make an English to french dictionary called e2f and print it. Here are your starter words dog is chien,cat is chat, and walrus is morse"
   ]
  },
  {
   "cell_type": "code",
   "execution_count": 13,
   "id": "99041068",
   "metadata": {},
   "outputs": [
    {
     "name": "stdout",
     "output_type": "stream",
     "text": [
      "{'dog': 'chien', 'cat': 'chat', 'walrus': 'morse'}\n"
     ]
    }
   ],
   "source": [
    "e2f={'dog':'chien','cat':'chat','walrus':'morse'}\n",
    "print(e2f)"
   ]
  },
  {
   "cell_type": "markdown",
   "id": "279090fb",
   "metadata": {},
   "source": [
    "#### Q9) Write the French word for walrus in your three-word dictionary e2f"
   ]
  },
  {
   "cell_type": "code",
   "execution_count": 14,
   "id": "deea02d2",
   "metadata": {},
   "outputs": [
    {
     "name": "stdout",
     "output_type": "stream",
     "text": [
      "morse\n"
     ]
    }
   ],
   "source": [
    "print(e2f.get('walrus'))"
   ]
  },
  {
   "cell_type": "markdown",
   "id": "83a3e989",
   "metadata": {},
   "source": [
    "#### Q10) Make a French to English dictionary called f2e from e2f. Use the items method"
   ]
  },
  {
   "cell_type": "code",
   "execution_count": 15,
   "id": "cd2788e4",
   "metadata": {},
   "outputs": [
    {
     "name": "stdout",
     "output_type": "stream",
     "text": [
      "{'chien': 'dog', 'chat': 'cat', 'morse': 'walrus'}\n"
     ]
    }
   ],
   "source": [
    "f2e = dict([ele[::-1] for ele in e2f.items()])\n",
    "print(f2e)"
   ]
  },
  {
   "cell_type": "markdown",
   "id": "c921542d",
   "metadata": {},
   "source": [
    "#### Q11) Print the English version of the French word chien using f2e"
   ]
  },
  {
   "cell_type": "code",
   "execution_count": 16,
   "id": "de1571d7",
   "metadata": {},
   "outputs": [
    {
     "name": "stdout",
     "output_type": "stream",
     "text": [
      "dog\n"
     ]
    }
   ],
   "source": [
    "print(f2e.get('chien'))"
   ]
  },
  {
   "cell_type": "markdown",
   "id": "dd0283af",
   "metadata": {},
   "source": [
    "#### Q12) Make and print a set of English words from the keys in e2f."
   ]
  },
  {
   "cell_type": "code",
   "execution_count": 20,
   "id": "0b90530a",
   "metadata": {},
   "outputs": [
    {
     "name": "stdout",
     "output_type": "stream",
     "text": [
      "['dog', 'cat', 'walrus']\n"
     ]
    }
   ],
   "source": [
    "print(list(e2f.keys()))"
   ]
  },
  {
   "cell_type": "markdown",
   "id": "02c1ebb5",
   "metadata": {},
   "source": [
    "#### Q 13) Make a multilevel dictionary called life. Use these strings for the topmost keys: 'animals', 'plants', and 'other'. Make the 'animals' key refer to another dictionary with the keys 'cats', 'octopi', and 'emus'. Make the 'cats' key refer to a list of strings with the values 'Henri', 'Grumpy', and 'Lucy'. Make all the other keys refer to empty dictionaries."
   ]
  },
  {
   "cell_type": "code",
   "execution_count": 22,
   "id": "fc0a591f",
   "metadata": {},
   "outputs": [
    {
     "name": "stdout",
     "output_type": "stream",
     "text": [
      "{'animals': {'cats': ['Henri', 'Grumpy', 'Lucy'], 'octopi': {}, 'emus': {}}, 'plants': {}, 'other': {}}\n"
     ]
    }
   ],
   "source": [
    "life = {\n",
    "    'animals':{\n",
    "        'cats':['Henri','Grumpy','Lucy'],\n",
    "        'octopi':{},\n",
    "        'emus':{}\n",
    "    },\n",
    "    'plants':{},\n",
    "    'other':{}\n",
    "}\n",
    "print(life)"
   ]
  },
  {
   "cell_type": "markdown",
   "id": "8a28221f",
   "metadata": {},
   "source": [
    "#### Q 14) Print the top-level keys of life."
   ]
  },
  {
   "cell_type": "code",
   "execution_count": 23,
   "id": "3815f8f1",
   "metadata": {},
   "outputs": [
    {
     "name": "stdout",
     "output_type": "stream",
     "text": [
      "['animals', 'plants', 'other']\n"
     ]
    }
   ],
   "source": [
    "print(list(life.keys()))"
   ]
  },
  {
   "cell_type": "markdown",
   "id": "83443a8d",
   "metadata": {},
   "source": [
    "#### Q 15)  Print the keys for life ['animals']."
   ]
  },
  {
   "cell_type": "code",
   "execution_count": 25,
   "id": "d228869a",
   "metadata": {},
   "outputs": [
    {
     "name": "stdout",
     "output_type": "stream",
     "text": [
      "['cats', 'octopi', 'emus']\n"
     ]
    }
   ],
   "source": [
    "print(list(life['animals'].keys()))"
   ]
  },
  {
   "cell_type": "markdown",
   "id": "23470a01",
   "metadata": {},
   "source": [
    "#### Q 16) Print the values for life['animals'] ['cats']"
   ]
  },
  {
   "cell_type": "code",
   "execution_count": 26,
   "id": "9a8f1fda",
   "metadata": {},
   "outputs": [
    {
     "name": "stdout",
     "output_type": "stream",
     "text": [
      "['Henri', 'Grumpy', 'Lucy']\n"
     ]
    }
   ],
   "source": [
    "print(life['animals']['cats'])"
   ]
  }
 ],
 "metadata": {
  "kernelspec": {
   "display_name": "Python 3 (ipykernel)",
   "language": "python",
   "name": "python3"
  },
  "language_info": {
   "codemirror_mode": {
    "name": "ipython",
    "version": 3
   },
   "file_extension": ".py",
   "mimetype": "text/x-python",
   "name": "python",
   "nbconvert_exporter": "python",
   "pygments_lexer": "ipython3",
   "version": "3.9.7"
  }
 },
 "nbformat": 4,
 "nbformat_minor": 5
}
