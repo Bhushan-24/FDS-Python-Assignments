{
 "cells": [
  {
   "cell_type": "markdown",
   "id": "85c41153",
   "metadata": {},
   "source": [
    "#### Q1) What advantages do Excel spreadsheets have over CSV spreadsheets?\n",
    "Ans)The Advantages of Excel over CSV are:\n",
    "Excel (XLS and XLSX) file formats are better for storing and analysing complex data.\n",
    "An Excel not only stores data but can also do operations on the data using macros, formulas etc\n",
    "CSV files are plain-text files, Does not contain formatting, formulas, macros, etc. It is also known as flat files"
   ]
  },
  {
   "cell_type": "markdown",
   "id": "d178fe29",
   "metadata": {},
   "source": [
    "#### Q2) What do you pass to csv.reader() and csv.writer() to create reader and writer objects?"
   ]
  },
  {
   "cell_type": "code",
   "execution_count": 1,
   "id": "988465dc",
   "metadata": {},
   "outputs": [],
   "source": [
    "import csv"
   ]
  },
  {
   "cell_type": "code",
   "execution_count": 2,
   "id": "88bb99ad",
   "metadata": {},
   "outputs": [
    {
     "name": "stdout",
     "output_type": "stream",
     "text": [
      "['Student_id', 'Student_name', 'Gender', 'Course', 'Branch']\n",
      "['101', 'Krish Naik', 'Male', 'Btech', 'C.S.E']\n",
      "['102', 'Rajiv', 'Male', 'Btech', 'E.E.E']\n",
      "['103', 'Bhushan', 'Male', 'Mtech', 'C.S.E']\n",
      "['104', 'Vasudha', 'Female', 'Mtech', 'E.C.E']\n",
      "['105', 'Sindhu', 'Female', 'Mtech', 'M.E.C.H']\n"
     ]
    }
   ],
   "source": [
    "with open('course.csv','r') as file:\n",
    "     csv_file = csv.reader(file,delimiter=',')\n",
    "     for ele in csv_file:\n",
    "         print(ele)"
   ]
  },
  {
   "cell_type": "markdown",
   "id": "44467727",
   "metadata": {},
   "source": [
    "#### Q3) What modes do File objects for reader and writer objects need to be opened in?\n",
    "Ans) For csv.reader(iterable_file_object), the file objects needed to be opened in read mode mode='r' Whereas for csv.writer(iterable_file_object) the file objects needed to be opened in write mode mode='w'"
   ]
  },
  {
   "cell_type": "markdown",
   "id": "d33fc9eb",
   "metadata": {},
   "source": [
    "#### Q4) What method takes a list argument and writes it to a CSV file?\n",
    "Ans)csv.writer class provides two methods for writing to CSV. They are writerow() and writerows(). writerow() method writes a single row at a time. Whereas writerows() method is used to write multiple rows at a time."
   ]
  },
  {
   "cell_type": "code",
   "execution_count": 3,
   "id": "a68c0236",
   "metadata": {},
   "outputs": [],
   "source": [
    "# Example code\n",
    "import csv"
   ]
  },
  {
   "cell_type": "code",
   "execution_count": 4,
   "id": "b22d4578",
   "metadata": {},
   "outputs": [],
   "source": [
    "f=['Employee_id','Employee_name','Salary']"
   ]
  },
  {
   "cell_type": "code",
   "execution_count": 8,
   "id": "493551a7",
   "metadata": {},
   "outputs": [],
   "source": [
    "r=['1','xyz','30000']\n",
    "with open(\"university_records.csv\", 'w') as csvfile:\n",
    "     csvwriter = csv.writer(csvfile) \n",
    "     csvwriter.writerow(f) \n",
    "     csvwriter.writerows(r) "
   ]
  },
  {
   "cell_type": "markdown",
   "id": "7372c406",
   "metadata": {},
   "source": [
    "#### Q5) What do the keyword arguments delimiter and line terminator do?\n",
    "Ans) Lets take the example of a csv file:\n",
    "First Name, Last Name, Age\n",
    "Bhushan, P, 24\n",
    "Vishnu, Vardhan, 21\n",
    "Here ',' is Delimiter. We can use any Character as per our needs if required. Similarly Line Terminator comes at end of line by default it is newline and can be changed accourding to Requirement"
   ]
  },
  {
   "cell_type": "markdown",
   "id": "4da5b878",
   "metadata": {},
   "source": [
    "#### Q6) What function takes a string of JSON data and returns a Python data structure?\n",
    "Ans) loads() method takes a string of JSON data and returns a Python data structure"
   ]
  },
  {
   "cell_type": "code",
   "execution_count": 10,
   "id": "98234792",
   "metadata": {},
   "outputs": [
    {
     "name": "stdout",
     "output_type": "stream",
     "text": [
      "{\n",
      "    \"Name\": \"Bhushan Punyamurthy\",\n",
      "    \"Qualification\": \"Bachelor of Technology\",\n",
      "    \"Stream\": \"Computer Science and Engineering\"}\n",
      "Type of my_details_json is <class 'str'>\n",
      "{'Name': 'Bhushan Punyamurthy', 'Qualification': 'Bachelor of Technology', 'Stream': 'Computer Science and Engineering'}\n",
      "Type of my_details is <class 'dict'>\n"
     ]
    }
   ],
   "source": [
    "# Example of json.loads() method\n",
    "import json\n",
    "my_details_json ='''{\n",
    "    \"Name\": \"Bhushan Punyamurthy\",\n",
    "    \"Qualification\": \"Bachelor of Technology\",\n",
    "    \"Stream\": \"Computer Science and Engineering\"}'''\n",
    "print(my_details_json)\n",
    "print(f'Type of my_details_json is {type(my_details_json)}')\n",
    "my_details = json.loads(my_details_json)\n",
    "print(my_details)\n",
    "print(f'Type of my_details is {type(my_details)}')"
   ]
  },
  {
   "cell_type": "markdown",
   "id": "9d9a2ac5",
   "metadata": {},
   "source": [
    "#### Q7) What function takes a Python data structure and returns a string of JSON data?\n",
    "Ans) dumps() method takes a python data structure and returns a string of JSON data"
   ]
  },
  {
   "cell_type": "code",
   "execution_count": 11,
   "id": "298a9446",
   "metadata": {},
   "outputs": [
    {
     "name": "stdout",
     "output_type": "stream",
     "text": [
      "{'Name': 'Bhushan P', 'Stream': 'Computer Science and Engineering', 'Qualification': 'Bachelor of Technology'}\n",
      "Type of my_details is <class 'dict'>\n",
      "{\n",
      "    \"Name\": \"Bhushan P\",\n",
      "    \"Qualification\": \"Bachelor of Technology\",\n",
      "    \"Stream\": \"Computer Science and Engineering\"\n",
      "}\n",
      "Type of my_details_json is <class 'str'>\n"
     ]
    }
   ],
   "source": [
    "# Example of json.dumps() method\n",
    "import json\n",
    "my_details = {\n",
    "    'Name':'Bhushan P',\n",
    "    'Stream':'Computer Science and Engineering',\n",
    "    'Qualification':'Bachelor of Technology'}\n",
    "print(my_details)\n",
    "print(f'Type of my_details is {type(my_details)}')\n",
    "my_details_json = json.dumps(my_details, indent=4, sort_keys=True)\n",
    "print(my_details_json)\n",
    "print(f'Type of my_details_json is {type(my_details_json)}')"
   ]
  },
  {
   "cell_type": "code",
   "execution_count": null,
   "id": "c3067998",
   "metadata": {},
   "outputs": [],
   "source": []
  }
 ],
 "metadata": {
  "kernelspec": {
   "display_name": "Python 3 (ipykernel)",
   "language": "python",
   "name": "python3"
  },
  "language_info": {
   "codemirror_mode": {
    "name": "ipython",
    "version": 3
   },
   "file_extension": ".py",
   "mimetype": "text/x-python",
   "name": "python",
   "nbconvert_exporter": "python",
   "pygments_lexer": "ipython3",
   "version": "3.9.7"
  }
 },
 "nbformat": 4,
 "nbformat_minor": 5
}
